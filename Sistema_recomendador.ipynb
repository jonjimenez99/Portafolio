{
  "nbformat": 4,
  "nbformat_minor": 0,
  "metadata": {
    "colab": {
      "provenance": [],
      "authorship_tag": "ABX9TyOggM/mR/wUCo+86Rw2sSqD",
      "include_colab_link": true
    },
    "kernelspec": {
      "name": "python3",
      "display_name": "Python 3"
    },
    "language_info": {
      "name": "python"
    }
  },
  "cells": [
    {
      "cell_type": "markdown",
      "metadata": {
        "id": "view-in-github",
        "colab_type": "text"
      },
      "source": [
        "<a href=\"https://colab.research.google.com/github/jonjimenez99/Portafolio/blob/main/Sistema_recomendador.ipynb\" target=\"_parent\"><img src=\"https://colab.research.google.com/assets/colab-badge.svg\" alt=\"Open In Colab\"/></a>"
      ]
    },
    {
      "cell_type": "markdown",
      "source": [
        "🧠 Reto: Recomendador implícito de Top-N productos\n",
        "Contexto:\n",
        "Trabajas en una plataforma de e-commerce.\n",
        "Solo tienes registros de qué productos han sido vistos o clickeados por los usuarios. No hay ratings ni calificaciones, solo interacciones binarias (interactuó / no interactuó).\n",
        "\n",
        "🎯 Objetivo\n",
        "Construir un sistema que recomiende Top-5 productos para cada usuario basado en las interacciones históricas.\n",
        "\n",
        "El sistema no debe recomendar productos que el usuario ya ha visto.\n",
        "\n",
        "Evaluar la calidad de las recomendaciones usando Precision@5.\n",
        "\n"
      ],
      "metadata": {
        "id": "NCV2tNNQJL5G"
      }
    },
    {
      "cell_type": "code",
      "source": [
        "import pandas as pd\n",
        "import numpy as np\n",
        "\n",
        "np.random.seed(42)\n",
        "\n",
        "n_users = 200\n",
        "n_items = 100\n",
        "\n",
        "interactions = {\n",
        "    \"user_id\": np.random.randint(0, n_users, size=2000),\n",
        "    \"item_id\": np.random.randint(0, n_items, size=2000),\n",
        "    \"interaction\": 1  # 1 = interacción positiva\n",
        "}\n",
        "\n",
        "df = pd.DataFrame(interactions)\n",
        "df.head()\n"
      ],
      "metadata": {
        "id": "nvAfsdqWJMcs"
      },
      "execution_count": null,
      "outputs": []
    }
  ]
}